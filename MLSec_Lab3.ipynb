{
  "nbformat": 4,
  "nbformat_minor": 0,
  "metadata": {
    "colab": {
      "name": "MLSec_Lab3.ipynb",
      "provenance": []
    },
    "kernelspec": {
      "name": "python3",
      "display_name": "Python 3"
    },
    "language_info": {
      "name": "python"
    }
  },
  "cells": [
    {
      "cell_type": "markdown",
      "metadata": {
        "id": "view-in-github"
      },
      "source": [
        "<a href=\"https://colab.research.google.com/github/yeb2Binfang/ECE-GY-9163-ML-cyber/blob/main/Lab/Lab3/MLSec_Lab3.ipynb\" target=\"_parent\"><img src=\"https://colab.research.google.com/assets/colab-badge.svg\" alt=\"Open In Colab\"/></a>"
      ]
    },
    {
      "cell_type": "markdown",
      "source": [
        "# Lab 3\n",
        "Sahil Makwane\n",
        "\n",
        "sm9127\n",
        "\n"
      ],
      "metadata": {
        "id": "X55pvW0OBVC8"
      }
    },
    {
      "cell_type": "code",
      "source": [
        "import matplotlib.pyplot as plt\n",
        "import pandas as pd\n",
        "import numpy as np\n",
        "import seaborn as sns\n",
        "import keras\n",
        "import sys\n",
        "import h5py\n",
        "import warnings\n",
        "from tqdm import tqdm\n",
        "from google.colab import drive\n",
        "drive.mount('/content/gdrive')"
      ],
      "metadata": {
        "id": "vB7W4IALFRCS"
      },
      "execution_count": null,
      "outputs": []
    },
    {
      "cell_type": "markdown",
      "source": [
        "## bd_net"
      ],
      "metadata": {
        "id": "xmbIJnBneLF8"
      }
    },
    {
      "cell_type": "code",
      "metadata": {
        "id": "rHopzGL9eXAj"
      },
      "source": [
        "cl_data = '/content/gdrive/MyDrive/Lab3/cl/valid.h5'\n",
        "poisoned_data = '/content/gdrive/MyDrive/Lab3/bd/bd_valid.h5'\n",
        "model_ = '/content/gdrive/MyDrive/Lab3/models/bd_net.h5'\n",
        "def data_loader(filepath):\n",
        "    data = h5py.File(filepath, 'r')\n",
        "    x_data = np.array(data['data'])\n",
        "    y_data = np.array(data['label'])\n",
        "    x_data = x_data.transpose((0,2,3,1))\n",
        "    return x_data, y_data\n",
        "\n",
        "def main():\n",
        "    cl_x_test, cl_y_test = data_loader(cl_data)\n",
        "    bd_x_test, bd_y_test = data_loader(poisoned_data)\n",
        "    bd_model = keras.models.load_model(model_)\n",
        "    cl_label_p = np.argmax(bd_model.predict(cl_x_test), axis=1)\n",
        "    clean_accuracy = np.mean(np.equal(cl_label_p, cl_y_test))*100\n",
        "    print('Clean Classification accuracy:', clean_accuracy)\n",
        "    bd_label_p = np.argmax(bd_model.predict(bd_x_test), axis=1)\n",
        "    asr = np.mean(np.equal(bd_label_p, bd_y_test))*100\n",
        "    print('Attack Success Rate:', asr)\n",
        "\n",
        "if __name__ == '__main__':\n",
        "    main()"
      ],
      "execution_count": null,
      "outputs": []
    },
    {
      "cell_type": "code",
      "source": [
        "model = keras.models.load_model(model_)\n",
        "print(model.summary())"
      ],
      "metadata": {
        "id": "xr9frp8C90Am"
      },
      "execution_count": null,
      "outputs": []
    },
    {
      "cell_type": "code",
      "source": [
        "x_data, y_data = data_loader(cl_data)"
      ],
      "metadata": {
        "id": "xKY8WGG5e6UP"
      },
      "execution_count": 4,
      "outputs": []
    },
    {
      "cell_type": "code",
      "source": [
        "figure = plt.figure(figsize=(11,11))\n",
        "cols, rows = 3,3\n",
        "for i in range(1, cols*rows+1):\n",
        "  index = np.random.randint(x_data.shape[0], size=1)\n",
        "  img, label = (x_data[index], y_data[index])\n",
        "  figure.add_subplot(rows, cols, i)\n",
        "  plt.title(\"true label: {}\".format(label))\n",
        "  plt.axis(\"off\")\n",
        "  plt.imshow(img[0]/255)\n",
        "plt.show()"
      ],
      "metadata": {
        "id": "4uR9tD-KenHC"
      },
      "execution_count": null,
      "outputs": []
    },
    {
      "cell_type": "code",
      "source": [
        "x_poisoned_data, y_poisoned_data = data_loader(poisoned_data)"
      ],
      "metadata": {
        "id": "KA-qTntdf1R8"
      },
      "execution_count": 6,
      "outputs": []
    },
    {
      "cell_type": "code",
      "source": [
        "figure = plt.figure(figsize=(11,11))\n",
        "cols, rows = 3,3\n",
        "for i in range(1, cols*rows+1):\n",
        "  index = np.random.randint(x_poisoned_data.shape[0], size=1)\n",
        "  img, label = (x_poisoned_data[index], y_poisoned_data[index])\n",
        "  figure.add_subplot(rows, cols, i)\n",
        "  plt.title(\"true label: {}\".format(label))\n",
        "  plt.axis(\"off\")\n",
        "  plt.imshow(img[0]/255)\n",
        "plt.show()"
      ],
      "metadata": {
        "id": "lFBeQMrEFCTx"
      },
      "execution_count": null,
      "outputs": []
    },
    {
      "cell_type": "code",
      "source": [
        "keras.backend.clear_session()\n",
        "cl_x_test, cl_y_test = data_loader(cl_data)\n",
        "bd_x_test, bd_y_test = data_loader(poisoned_data)"
      ],
      "metadata": {
        "id": "NifUFwEpfqKk"
      },
      "execution_count": 8,
      "outputs": []
    },
    {
      "cell_type": "code",
      "source": [
        "clean_data_acc = 98.64899974019225\n",
        "model_copy = keras.models.clone_model(model)\n",
        "model_copy.set_weights(model.get_weights()) \n",
        "prune_index = []\n",
        "clean_acc = []\n",
        "asrate = []\n",
        "saved_model = np.zeros(3,dtype=bool)\n",
        "layer_output=model_copy.get_layer('pool_3').output\n",
        "intermediate_model=keras.models.Model(inputs=model_copy.input,outputs=layer_output)\n",
        "intermediate_prediction=intermediate_model.predict(cl_x_test)  \n",
        "temp = np.mean(intermediate_prediction,axis=(0,1,2))\n",
        "seq = np.argsort(temp)\n",
        "weight_0 = model_copy.layers[5].get_weights()[0]\n",
        "bias_0 = model_copy.layers[5].get_weights()[1]\n",
        "\n",
        "for channel_index in tqdm(seq): \n",
        "  weight_0[:,:,:,channel_index] = 0\n",
        "  bias_0[channel_index] = 0\n",
        "  model_copy.layers[5].set_weights([weight_0, bias_0])\n",
        "  cl_label_p = np.argmax(model_copy.predict(cl_x_test), axis=1)\n",
        "  clean_accuracy = np.mean(np.equal(cl_label_p, cl_y_test))*100\n",
        "  if (clean_data_acc-clean_accuracy >= 2 and not saved_model[0]):\n",
        "    print(\"The accuracy drops at least 2%, saved the model\")\n",
        "    model_copy.save('model_X=2.h5')\n",
        "    saved_model[0] = 1\n",
        "  if (clean_data_acc-clean_accuracy >= 4 and not saved_model[1]):\n",
        "    print(\"The accuracy drops at least 4%, saved the model\")\n",
        "    model_copy.save('model_X=4.h5')\n",
        "    saved_model[1] = 1\n",
        "  if (clean_data_acc-clean_accuracy >= 10 and not saved_model[2]):\n",
        "    print(\"The accuracy drops at least 10%, saved the model\")\n",
        "    model_copy.save('model_X=10.h5')\n",
        "    saved_model[2] = 1\n",
        "  clean_acc.append(clean_accuracy)\n",
        "  bd_label_p = np.argmax(model_copy.predict(bd_x_test), axis=1)\n",
        "  asr = np.mean(np.equal(bd_label_p, bd_y_test))*100\n",
        "  asrate.append(asr)\n",
        "  print()\n",
        "  print(\"The clean accuracy is: \",clean_accuracy)\n",
        "  print(\"The attack success rate is: \",asr)\n",
        "  print(\"The pruned channel index is: \",channel_index)\n",
        "  keras.backend.clear_session()\n"
      ],
      "metadata": {
        "id": "0LT8I7Z9mQGX"
      },
      "execution_count": null,
      "outputs": []
    },
    {
      "cell_type": "code",
      "source": [
        "print(\"clean accuracy is: \", clean_acc)\n",
        "print(\"attack success rate is: \", asrate)"
      ],
      "metadata": {
        "id": "cJ-6Ln6nmONC"
      },
      "execution_count": null,
      "outputs": []
    },
    {
      "cell_type": "code",
      "source": [
        "x_axis = np.arange(1,61)/60\n",
        "plt.plot(x_axis,clean_acc)\n",
        "plt.plot(x_axis,asrate)\n",
        "plt.legend(['clean_accuracy','attack success rate'])\n",
        "plt.xlabel(\"fraction of pruned channels\")\n",
        "plt.ylabel(\"rate\")\n",
        "plt.title(\"accuracy and attack success rate for validation dataset\")"
      ],
      "metadata": {
        "id": "06DL1vGAeKUX"
      },
      "execution_count": null,
      "outputs": []
    },
    {
      "cell_type": "code",
      "source": [
        "index = np.where(np.array(clean_acc) <= (clean_data_acc-30))[0]\n",
        "print(\"The attack success rate when the accuracy drops at least 30%: \",asrate[index[0]])"
      ],
      "metadata": {
        "id": "wkPnRDg1iIXR"
      },
      "execution_count": null,
      "outputs": []
    },
    {
      "cell_type": "markdown",
      "source": [
        "## Combined-Models\n"
      ],
      "metadata": {
        "id": "sCfsP5nZmT5Q"
      }
    },
    {
      "cell_type": "code",
      "source": [
        "class G(keras.Model):\n",
        "  def __init__(self, B, B_prime):\n",
        "      super(G, self).__init__()\n",
        "      self.B = B\n",
        "      self.B_prime = B_prime\n",
        "\n",
        "  def predict(self,data):\n",
        "      y = np.argmax(self.B(data), axis=1)\n",
        "      y_prime = np.argmax(self.B_prime(data), axis=1)\n",
        "      pred = np.zeros(data.shape[0])\n",
        "      for i in range(data.shape[0]):\n",
        "        if y[i]==y_prime[i]:\n",
        "          pred[i] = y[i]\n",
        "        else:\n",
        "          pred[i] = 1283\n",
        "      return pred"
      ],
      "metadata": {
        "id": "6E00xt5RiwVi"
      },
      "execution_count": null,
      "outputs": []
    },
    {
      "cell_type": "markdown",
      "source": [
        "## Combined-Model Eval"
      ],
      "metadata": {
        "id": "1VzGeAwDrZu2"
      }
    },
    {
      "cell_type": "code",
      "source": [
        "test_data = '/content/gdrive/MyDrive/Lab3/cl/test.h5'\n",
        "poisoned_test_data = '/content/gdrive/MyDrive//Lab3/bd/bd_test.h5'\n",
        "test_model_X_2_filename = '/content/gdrive/MyDrive/Lab3/models/model_X=2.h5'\n",
        "test_model_X_4_filename = '/content/gdrive/MyDrive/Lab3/models/model_X=4.h5'\n",
        "test_model_X_10_filename = '/content/gdrive/MyDrive/Lab3/models/model_X=10.h5'\n",
        "test_model_X_2 = keras.models.load_model(test_model_X_2_filename)\n",
        "test_model_X_4 = keras.models.load_model(test_model_X_4_filename)\n",
        "test_model_X_10 = keras.models.load_model(test_model_X_10_filename)\n",
        "x_test_data, y_test_data = data_loader(test_data)\n",
        "x_test_poisoned_data, y_test_poisnoed_data = data_loader(poisoned_test_data)"
      ],
      "metadata": {
        "id": "lC0cTvx4rdHP"
      },
      "execution_count": null,
      "outputs": []
    },
    {
      "cell_type": "code",
      "source": [
        "print(\"x_test_data shape: \",x_test_data.shape)\n",
        "print(\"x_test_poisoned data shape: \",x_test_poisoned_data.shape)"
      ],
      "metadata": {
        "id": "Vl9gm6Uy_rHz"
      },
      "execution_count": null,
      "outputs": []
    },
    {
      "cell_type": "code",
      "source": [
        "G_model_X_2 = G(model, test_model_X_2)\n",
        "G_model_X_4 = G(model, test_model_X_4)\n",
        "G_model_X_10 = G(model, test_model_X_10)"
      ],
      "metadata": {
        "id": "7BKLN0LRG38W"
      },
      "execution_count": null,
      "outputs": []
    },
    {
      "cell_type": "code",
      "source": [
        "cl_test_2_label_p = np.argmax(test_model_X_2.predict(x_test_data), axis=1)\n",
        "clean_test_2_accuracy = np.mean(np.equal(cl_test_2_label_p, y_test_data))*100\n",
        "print('2% drops model, the clean test data Classification accuracy:', clean_test_2_accuracy)\n",
        "\n",
        "bd_test_2_label_p = np.argmax(test_model_X_2.predict(x_test_poisoned_data), axis=1)\n",
        "asr_2 = np.mean(np.equal(bd_test_2_label_p, y_test_poisnoed_data))*100\n",
        "print('2% drops model, Attack Success Rate:', asr_2)\n",
        "\n",
        "cl_test_4_label_p = np.argmax(test_model_X_4.predict(x_test_data), axis=1)\n",
        "clean_test_4_accuracy = np.mean(np.equal(cl_test_4_label_p, y_test_data))*100\n",
        "print('4% drops model, the clean test data Classification accuracy:', clean_test_4_accuracy)\n",
        "\n",
        "bd_test_4_label_p = np.argmax(test_model_X_4.predict(x_test_poisoned_data), axis=1)\n",
        "asr_4 = np.mean(np.equal(bd_test_4_label_p, y_test_poisnoed_data))*100\n",
        "print('4% drops model, Attack Success Rate:', asr_4)\n",
        "\n",
        "cl_test_10_label_p = np.argmax(test_model_X_10.predict(x_test_data), axis=1)\n",
        "clean_test_10_accuracy = np.mean(np.equal(cl_test_10_label_p, y_test_data))*100\n",
        "print('10% drops model, the clean test data Classification accuracy:', clean_test_10_accuracy)\n",
        "\n",
        "bd_test_10_label_p = np.argmax(test_model_X_10.predict(x_test_poisoned_data), axis=1)\n",
        "asr_10 = np.mean(np.equal(bd_test_10_label_p, y_test_poisnoed_data))*100\n",
        "print('10% drops model, Attack Success Rate:', asr_10)"
      ],
      "metadata": {
        "id": "gYOBO0IJGQ0b"
      },
      "execution_count": null,
      "outputs": []
    },
    {
      "cell_type": "code",
      "source": [
        "test_acc = [clean_test_2_accuracy, clean_test_4_accuracy, clean_test_10_accuracy]\n",
        "attack_rate = [asr_2, asr_4, asr_10]\n",
        "data = {\n",
        "    \"text_acc\": test_acc,\n",
        "    \"attack_rate\": attack_rate,\n",
        "    \"model\": [\"repaired_2%\", \"repaired_4%\", \"repaired_10%\"]\n",
        "}\n",
        "df = pd.DataFrame(data)\n",
        "df.set_index('model')"
      ],
      "metadata": {
        "id": "Q3cmQ_UKOmcU"
      },
      "execution_count": null,
      "outputs": []
    },
    {
      "cell_type": "code",
      "source": [
        "opacity = 0.4\n",
        "bar_width = 0.35\n",
        "\n",
        "plt.xlabel('% drops model')\n",
        "plt.ylabel('Rate')\n",
        "\n",
        "plt.xticks(range(len(test_acc)),('2%', '4%', '10%'))\n",
        "bar1 = plt.bar(np.arange(len(test_acc)) + bar_width, test_acc, bar_width, align='center', alpha=opacity, color='b', label='accuracy')\n",
        "bar2 = plt.bar(range(len(attack_rate)), attack_rate, bar_width, align='center', alpha=opacity, color='r', label='attack rate')\n",
        "\n",
        "for rect in bar1 + bar2:\n",
        "    height = rect.get_height()\n",
        "    plt.text(rect.get_x() + rect.get_width() / 2.0, height, f'{height:.02f}', ha='center', va='bottom')\n",
        "\n",
        "plt.legend(bbox_to_anchor=(1.4, 1))\n",
        "plt.tight_layout()\n",
        "plt.title('performance of repaired model is')\n",
        "sns.despine()\n",
        "plt.show()"
      ],
      "metadata": {
        "id": "hR7rVgurREls"
      },
      "execution_count": null,
      "outputs": []
    },
    {
      "cell_type": "code",
      "source": [
        "G_cl_test_2_label_p = G_model_X_2.predict(x_test_data)\n",
        "G_clean_test_2_accuracy = np.mean(np.equal(cl_test_2_label_p, y_test_data))*100\n",
        "print('Combined 2% drops model, the clean test data Classification accuracy:', G_clean_test_2_accuracy)\n",
        "\n",
        "G_bd_test_2_label_p = G_model_X_2.predict(x_test_poisoned_data)\n",
        "G_asr_2 = np.mean(np.equal(bd_test_2_label_p, y_test_poisnoed_data))*100\n",
        "print('Combined 2% drops model, Attack Success Rate:', G_asr_2)\n",
        "\n",
        "G_cl_test_4_label_p = G_model_X_4.predict(x_test_data)\n",
        "G_clean_test_4_accuracy = np.mean(np.equal(cl_test_4_label_p, y_test_data))*100\n",
        "print('Combined 4% drops model, the clean test data Classification accuracy:', G_clean_test_4_accuracy)\n",
        "\n",
        "G_bd_test_4_label_p = G_model_X_4.predict(x_test_poisoned_data)\n",
        "G_asr_4 = np.mean(np.equal(bd_test_4_label_p, y_test_poisnoed_data))*100\n",
        "print('Combined 4% drops model, Attack Success Rate:', G_asr_4)\n",
        "\n",
        "G_cl_test_10_label_p = G_model_X_10.predict(x_test_data)\n",
        "G_clean_test_10_accuracy = np.mean(np.equal(cl_test_10_label_p, y_test_data))*100\n",
        "print('Combined 10% drops model, the clean test data Classification accuracy:', G_clean_test_10_accuracy)\n",
        "\n",
        "G_bd_test_10_label_p = G_model_X_10.predict(x_test_poisoned_data)\n",
        "G_asr_10 = np.mean(np.equal(bd_test_10_label_p, y_test_poisnoed_data))*100\n",
        "print('Combined 10% drops model, Attack Success Rate:', G_asr_10)"
      ],
      "metadata": {
        "id": "98mQEY9Eogew"
      },
      "execution_count": null,
      "outputs": []
    },
    {
      "cell_type": "code",
      "source": [
        "G_test_acc = [G_clean_test_2_accuracy, G_clean_test_4_accuracy, G_clean_test_10_accuracy]\n",
        "G_attack_rate = [G_asr_2, G_asr_4, G_asr_10]\n",
        "G_data = {\n",
        "    \"G_text_acc\": G_test_acc,\n",
        "    \"G_attack_rate\": G_attack_rate,\n",
        "    \"G_model\": [\"G_2%\", \"G_4%\", \"G_10%\"]\n",
        "}\n",
        "G_df = pd.DataFrame(G_data)\n",
        "G_df.set_index('G_model')\n",
        "opacity = 0.4\n",
        "bar_width = 0.35\n",
        "\n",
        "plt.xlabel('combined % drops model')\n",
        "plt.ylabel('Rate')\n",
        "plt.xticks(range(len(G_test_acc)),('2%', '4%', '10%'))\n",
        "bar1 = plt.bar(np.arange(len(G_test_acc)) + bar_width, G_test_acc, bar_width, align='center', alpha=opacity, color='b', label='accuracy')\n",
        "bar2 = plt.bar(range(len(G_attack_rate)),G_attack_rate, bar_width, align='center', alpha=opacity, color='r', label='attack rate')\n",
        "for rect in bar1 + bar2:\n",
        "    height = rect.get_height()\n",
        "    plt.text(rect.get_x() + rect.get_width() / 2.0, height, f'{height:.02f}', ha='center', va='bottom')\n",
        "\n",
        "plt.legend(bbox_to_anchor=(1.4, 1))\n",
        "plt.tight_layout()\n",
        "plt.title('performance of goodNet model')\n",
        "sns.despine()\n",
        "plt.show()"
      ],
      "metadata": {
        "id": "L0kFQv9Uq7Iq"
      },
      "execution_count": null,
      "outputs": []
    }
  ]
}